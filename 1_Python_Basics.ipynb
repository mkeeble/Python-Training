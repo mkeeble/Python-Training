{
  "nbformat": 4,
  "nbformat_minor": 0,
  "metadata": {
    "colab": {
      "name": "1_Python_Basics.ipynb",
      "version": "0.3.2",
      "provenance": [],
      "collapsed_sections": [
        "9gaRAqwYOjK7",
        "qN_hDy2NOjLL",
        "Hqn_VZVCOjLa",
        "MPdCst5ZOjMA",
        "Lw3lCc3EOjMG",
        "TD5cNglAOjMN",
        "stviN-1GOjMh",
        "38qYX5-POjMq",
        "-YfIsezwOjMy",
        "X7VZ5MHVOjNQ",
        "sJqZhChQOjOT",
        "WuEqcDBhOjO5",
        "k59diTqhOjPC",
        "0QL5-VCaOjPN",
        "ADaSFEjjOjPo",
        "q5twaxKqOjPr",
        "yRFbmFg_OjP1",
        "FvQlqEvhOjP8",
        "8ukYC4CEOjP-"
      ]
    },
    "language_info": {
      "codemirror_mode": {
        "name": "ipython",
        "version": 3
      },
      "file_extension": ".py",
      "mimetype": "text/x-python",
      "name": "python",
      "nbconvert_exporter": "python",
      "pygments_lexer": "ipython3",
      "version": "3.7.1"
    },
    "kernelspec": {
      "display_name": "Python 3",
      "language": "python",
      "name": "python3"
    }
  },
  "cells": [
    {
      "cell_type": "markdown",
      "metadata": {
        "colab_type": "text",
        "id": "jDRmgoxJOjJo",
        "slideshow": {
          "slide_type": "slide"
        }
      },
      "source": [
        "# Quick introduction to the Jupyter Notebook Environment!"
      ]
    },
    {
      "cell_type": "markdown",
      "metadata": {
        "colab_type": "text",
        "id": "U4rHnrPDOjJr",
        "slideshow": {
          "slide_type": "slide"
        }
      },
      "source": [
        "# Numbers"
      ]
    },
    {
      "cell_type": "markdown",
      "metadata": {
        "colab_type": "text",
        "id": "vp0r0V8YOjJs",
        "slideshow": {
          "slide_type": "subslide"
        }
      },
      "source": [
        "## Integers\n",
        "\n",
        "Integers are ... well ... integers! They are simply whole numbers."
      ]
    },
    {
      "cell_type": "code",
      "metadata": {
        "colab_type": "code",
        "id": "GZuCeUxIOjJv",
        "scrolled": false,
        "slideshow": {
          "slide_type": "fragment"
        },
        "colab": {}
      },
      "source": [
        "# Type an integer\n",
        "42"
      ],
      "execution_count": 0,
      "outputs": []
    },
    {
      "cell_type": "code",
      "metadata": {
        "colab_type": "code",
        "id": "EOT7Xt70OjJ5",
        "scrolled": true,
        "slideshow": {
          "slide_type": "fragment"
        },
        "colab": {}
      },
      "source": [
        "type(42)"
      ],
      "execution_count": 0,
      "outputs": []
    },
    {
      "cell_type": "markdown",
      "metadata": {
        "colab_type": "text",
        "id": "d4-bbaQvOjJ-",
        "slideshow": {
          "slide_type": "subslide"
        }
      },
      "source": [
        "## Floats\n",
        "\n",
        "Floats are decimal numbers. They have more precision than integers"
      ]
    },
    {
      "cell_type": "code",
      "metadata": {
        "colab_type": "code",
        "id": "aGUE3RH-OjKA",
        "scrolled": true,
        "slideshow": {
          "slide_type": "fragment"
        },
        "colab": {}
      },
      "source": [
        "2.5"
      ],
      "execution_count": 0,
      "outputs": []
    },
    {
      "cell_type": "code",
      "metadata": {
        "colab_type": "code",
        "id": "mvAeqj07OjKF",
        "slideshow": {
          "slide_type": "fragment"
        },
        "colab": {}
      },
      "source": [
        "type(2.5)"
      ],
      "execution_count": 0,
      "outputs": []
    },
    {
      "cell_type": "markdown",
      "metadata": {
        "colab_type": "text",
        "id": "cCJphLOuOjKL",
        "slideshow": {
          "slide_type": "subslide"
        }
      },
      "source": [
        "## Math!"
      ]
    },
    {
      "cell_type": "markdown",
      "metadata": {
        "colab_type": "text",
        "id": "DBcBdES-OjKP",
        "slideshow": {
          "slide_type": "subslide"
        }
      },
      "source": [
        "### Addition"
      ]
    },
    {
      "cell_type": "code",
      "metadata": {
        "colab_type": "code",
        "id": "G_cgKi4dOjKQ",
        "slideshow": {
          "slide_type": "fragment"
        },
        "colab": {}
      },
      "source": [
        "2+2"
      ],
      "execution_count": 0,
      "outputs": []
    },
    {
      "cell_type": "code",
      "metadata": {
        "colab_type": "code",
        "id": "JifY19saOjKX",
        "slideshow": {
          "slide_type": "fragment"
        },
        "colab": {}
      },
      "source": [
        "type(2+2)"
      ],
      "execution_count": 0,
      "outputs": []
    },
    {
      "cell_type": "code",
      "metadata": {
        "colab_type": "code",
        "id": "Uizc6mIROjKc",
        "slideshow": {
          "slide_type": "fragment"
        },
        "colab": {}
      },
      "source": [
        "type(2+2.5)"
      ],
      "execution_count": 0,
      "outputs": []
    },
    {
      "cell_type": "code",
      "metadata": {
        "colab_type": "code",
        "id": "f-NcpoN8OjKh",
        "slideshow": {
          "slide_type": "fragment"
        },
        "colab": {}
      },
      "source": [
        "type(2.5 + 2.5)"
      ],
      "execution_count": 0,
      "outputs": []
    },
    {
      "cell_type": "markdown",
      "metadata": {
        "colab_type": "text",
        "id": "vGRBjXv9OjKm",
        "slideshow": {
          "slide_type": "subslide"
        }
      },
      "source": [
        "### Subtraction"
      ]
    },
    {
      "cell_type": "code",
      "metadata": {
        "colab_type": "code",
        "id": "qC3NRaZoOjKo",
        "slideshow": {
          "slide_type": "fragment"
        },
        "colab": {}
      },
      "source": [
        "2-2"
      ],
      "execution_count": 0,
      "outputs": []
    },
    {
      "cell_type": "code",
      "metadata": {
        "colab_type": "code",
        "id": "SjPWGRssOjKt",
        "slideshow": {
          "slide_type": "fragment"
        },
        "colab": {}
      },
      "source": [
        "type(2-2)"
      ],
      "execution_count": 0,
      "outputs": []
    },
    {
      "cell_type": "code",
      "metadata": {
        "colab_type": "code",
        "id": "cANs0PTUOjKy",
        "slideshow": {
          "slide_type": "fragment"
        },
        "colab": {}
      },
      "source": [
        "type(2-2.5)"
      ],
      "execution_count": 0,
      "outputs": []
    },
    {
      "cell_type": "markdown",
      "metadata": {
        "colab_type": "text",
        "id": "9gaRAqwYOjK7",
        "slideshow": {
          "slide_type": "subslide"
        }
      },
      "source": [
        "### Multiplication"
      ]
    },
    {
      "cell_type": "code",
      "metadata": {
        "colab_type": "code",
        "id": "YC8y4w2HOjK9",
        "slideshow": {
          "slide_type": "fragment"
        },
        "colab": {}
      },
      "source": [
        "2*2"
      ],
      "execution_count": 0,
      "outputs": []
    },
    {
      "cell_type": "code",
      "metadata": {
        "colab_type": "code",
        "id": "NiB0xQsGOjLC",
        "slideshow": {
          "slide_type": "fragment"
        },
        "colab": {}
      },
      "source": [
        "type(2*2)"
      ],
      "execution_count": 0,
      "outputs": []
    },
    {
      "cell_type": "code",
      "metadata": {
        "colab_type": "code",
        "id": "DMZJt6aMOjLH",
        "slideshow": {
          "slide_type": "fragment"
        },
        "colab": {}
      },
      "source": [
        "type(2*2.5)"
      ],
      "execution_count": 0,
      "outputs": []
    },
    {
      "cell_type": "markdown",
      "metadata": {
        "colab_type": "text",
        "id": "qN_hDy2NOjLL",
        "slideshow": {
          "slide_type": "subslide"
        }
      },
      "source": [
        "### Division"
      ]
    },
    {
      "cell_type": "code",
      "metadata": {
        "colab_type": "code",
        "id": "6D2X5-mWOjLM",
        "slideshow": {
          "slide_type": "fragment"
        },
        "colab": {}
      },
      "source": [
        "2/2"
      ],
      "execution_count": 0,
      "outputs": []
    },
    {
      "cell_type": "code",
      "metadata": {
        "colab_type": "code",
        "id": "e5D44BagOjLQ",
        "slideshow": {
          "slide_type": "fragment"
        },
        "colab": {}
      },
      "source": [
        "# NOTE: This is NOTE the case in python 2. Integer division will return zero!\n",
        "type(2/2)"
      ],
      "execution_count": 0,
      "outputs": []
    },
    {
      "cell_type": "code",
      "metadata": {
        "colab_type": "code",
        "id": "JqiHtDUbOjLW",
        "scrolled": true,
        "slideshow": {
          "slide_type": "fragment"
        },
        "colab": {}
      },
      "source": [
        "type(2/2.5)"
      ],
      "execution_count": 0,
      "outputs": []
    },
    {
      "cell_type": "markdown",
      "metadata": {
        "colab_type": "text",
        "id": "Hqn_VZVCOjLa",
        "slideshow": {
          "slide_type": "subslide"
        }
      },
      "source": [
        "### Other random functions"
      ]
    },
    {
      "cell_type": "code",
      "metadata": {
        "colab_type": "code",
        "id": "uwe9vcKCOjLb",
        "slideshow": {
          "slide_type": "fragment"
        },
        "colab": {}
      },
      "source": [
        "# Raise to a power\n",
        "2**3"
      ],
      "execution_count": 0,
      "outputs": []
    },
    {
      "cell_type": "code",
      "metadata": {
        "colab_type": "code",
        "id": "U3kSLScMOjLg",
        "slideshow": {
          "slide_type": "fragment"
        },
        "colab": {}
      },
      "source": [
        "# Floor division\n",
        "10//3"
      ],
      "execution_count": 0,
      "outputs": []
    },
    {
      "cell_type": "code",
      "metadata": {
        "colab_type": "code",
        "id": "pBO6LfNiOjLk",
        "slideshow": {
          "slide_type": "fragment"
        },
        "colab": {}
      },
      "source": [
        "# Modular division\n",
        "10%3"
      ],
      "execution_count": 0,
      "outputs": []
    },
    {
      "cell_type": "markdown",
      "metadata": {
        "colab_type": "text",
        "id": "9kY0ZLzUOjLo",
        "slideshow": {
          "slide_type": "slide"
        }
      },
      "source": [
        "# Strings"
      ]
    },
    {
      "cell_type": "markdown",
      "metadata": {
        "colab_type": "text",
        "id": "SqlBepvbOjLp",
        "slideshow": {
          "slide_type": "subslide"
        }
      },
      "source": [
        "Strings are a series of characters in quotes:"
      ]
    },
    {
      "cell_type": "code",
      "metadata": {
        "colab_type": "code",
        "id": "lYVUWc13OjLs",
        "slideshow": {
          "slide_type": "fragment"
        },
        "colab": {}
      },
      "source": [
        "# You can use double quotes\n",
        "\"Hello World!\""
      ],
      "execution_count": 0,
      "outputs": []
    },
    {
      "cell_type": "code",
      "metadata": {
        "colab_type": "code",
        "id": "HRW4x4f9OjLy",
        "slideshow": {
          "slide_type": "fragment"
        },
        "colab": {}
      },
      "source": [
        "# Or single quotes\n",
        "'Hello World!!'"
      ],
      "execution_count": 0,
      "outputs": []
    },
    {
      "cell_type": "code",
      "metadata": {
        "colab_type": "code",
        "id": "x8Fne2lNOjL2",
        "scrolled": true,
        "slideshow": {
          "slide_type": "fragment"
        },
        "colab": {}
      },
      "source": [
        "# Theyre the same thing\n",
        "\"Hello World\" == 'Hello World'"
      ],
      "execution_count": 0,
      "outputs": []
    },
    {
      "cell_type": "code",
      "metadata": {
        "colab_type": "code",
        "id": "71TkuU3POjL6",
        "slideshow": {
          "slide_type": "fragment"
        },
        "colab": {}
      },
      "source": [
        "# Also string literals, which allow you to use both single and double quotes in your string\n",
        "\"\"\" This is a string literal with \"double quotes\" and 'single quotes'! \"\"\""
      ],
      "execution_count": 0,
      "outputs": []
    },
    {
      "cell_type": "markdown",
      "metadata": {
        "colab_type": "text",
        "id": "MPdCst5ZOjMA",
        "slideshow": {
          "slide_type": "subslide"
        }
      },
      "source": [
        "## Printing strings"
      ]
    },
    {
      "cell_type": "code",
      "metadata": {
        "colab_type": "code",
        "id": "dHvknWqiOjMB",
        "scrolled": true,
        "slideshow": {
          "slide_type": "fragment"
        },
        "colab": {}
      },
      "source": [
        "print(''' This is a string literal with \"double quotes\" and 'single quotes'! ''')"
      ],
      "execution_count": 0,
      "outputs": []
    },
    {
      "cell_type": "markdown",
      "metadata": {
        "colab_type": "text",
        "id": "Lw3lCc3EOjMG",
        "slideshow": {
          "slide_type": "subslide"
        }
      },
      "source": [
        "## String formatting"
      ]
    },
    {
      "cell_type": "code",
      "metadata": {
        "colab_type": "code",
        "id": "BTD1_P7ZOjMJ",
        "slideshow": {
          "slide_type": "fragment"
        },
        "colab": {}
      },
      "source": [
        "print(''' This is a string literal with \"double quotes\" and '{}'! {} '''.format('single quotes', 2))"
      ],
      "execution_count": 0,
      "outputs": []
    },
    {
      "cell_type": "markdown",
      "metadata": {
        "colab_type": "text",
        "id": "TD5cNglAOjMN",
        "slideshow": {
          "slide_type": "subslide"
        }
      },
      "source": [
        "## Slicing"
      ]
    },
    {
      "cell_type": "code",
      "metadata": {
        "colab_type": "code",
        "id": "Tmq7GyAoOjMO",
        "slideshow": {
          "slide_type": "fragment"
        },
        "colab": {}
      },
      "source": [
        "'Hello World!'[0:2]"
      ],
      "execution_count": 0,
      "outputs": []
    },
    {
      "cell_type": "code",
      "metadata": {
        "colab_type": "code",
        "id": "bpCIfNBtOjMS",
        "slideshow": {
          "slide_type": "fragment"
        },
        "colab": {}
      },
      "source": [
        "'Hello World!'[:-3]"
      ],
      "execution_count": 0,
      "outputs": []
    },
    {
      "cell_type": "code",
      "metadata": {
        "colab_type": "code",
        "id": "EXlQUAYGOjMc",
        "slideshow": {
          "slide_type": "fragment"
        },
        "colab": {}
      },
      "source": [
        "'Hello World!'[-3:-1]"
      ],
      "execution_count": 0,
      "outputs": []
    },
    {
      "cell_type": "markdown",
      "metadata": {
        "colab_type": "text",
        "id": "stviN-1GOjMh",
        "slideshow": {
          "slide_type": "subslide"
        }
      },
      "source": [
        "## Splitting"
      ]
    },
    {
      "cell_type": "code",
      "metadata": {
        "colab_type": "code",
        "id": "hTWbJWDTOjMj",
        "slideshow": {
          "slide_type": "fragment"
        },
        "colab": {}
      },
      "source": [
        "'Hello $World!$somethingelse'.split('$')"
      ],
      "execution_count": 0,
      "outputs": []
    },
    {
      "cell_type": "markdown",
      "metadata": {
        "colab_type": "text",
        "id": "38qYX5-POjMq",
        "slideshow": {
          "slide_type": "subslide"
        }
      },
      "source": [
        "## Checking for substrings"
      ]
    },
    {
      "cell_type": "code",
      "metadata": {
        "colab_type": "code",
        "id": "vkZ6G9SvOjMr",
        "slideshow": {
          "slide_type": "fragment"
        },
        "colab": {}
      },
      "source": [
        "'Hello' in 'Hello World!'"
      ],
      "execution_count": 0,
      "outputs": []
    },
    {
      "cell_type": "code",
      "metadata": {
        "colab_type": "code",
        "id": "fgyKM8hsOjMu",
        "slideshow": {
          "slide_type": "fragment"
        },
        "colab": {}
      },
      "source": [
        "'hello' in 'Hello World!'"
      ],
      "execution_count": 0,
      "outputs": []
    },
    {
      "cell_type": "markdown",
      "metadata": {
        "colab_type": "text",
        "id": "-YfIsezwOjMy",
        "slideshow": {
          "slide_type": "subslide"
        }
      },
      "source": [
        "## Upper and Lower Cases"
      ]
    },
    {
      "cell_type": "code",
      "metadata": {
        "colab_type": "code",
        "id": "8_MiuCVKOjMz",
        "scrolled": true,
        "slideshow": {
          "slide_type": "fragment"
        },
        "colab": {}
      },
      "source": [
        "'Hello World!'.upper()"
      ],
      "execution_count": 0,
      "outputs": []
    },
    {
      "cell_type": "code",
      "metadata": {
        "colab_type": "code",
        "id": "DoV95FHAOjM5",
        "slideshow": {
          "slide_type": "fragment"
        },
        "colab": {}
      },
      "source": [
        "'Hello World!'.lower()"
      ],
      "execution_count": 0,
      "outputs": []
    },
    {
      "cell_type": "markdown",
      "metadata": {
        "colab_type": "text",
        "id": "fGjFb9bCOjM7",
        "slideshow": {
          "slide_type": "slide"
        }
      },
      "source": [
        "# Variables"
      ]
    },
    {
      "cell_type": "markdown",
      "metadata": {
        "colab_type": "text",
        "id": "P0fIopKxOjNA",
        "slideshow": {
          "slide_type": "subslide"
        }
      },
      "source": [
        "We can assign values to variables"
      ]
    },
    {
      "cell_type": "code",
      "metadata": {
        "colab_type": "code",
        "id": "okSUGtrLOjND",
        "slideshow": {
          "slide_type": "fragment"
        },
        "colab": {}
      },
      "source": [
        "x = 3\n",
        "y = 2"
      ],
      "execution_count": 0,
      "outputs": []
    },
    {
      "cell_type": "markdown",
      "metadata": {
        "colab_type": "text",
        "id": "xRiNezDIOjNH",
        "slideshow": {
          "slide_type": "subslide"
        }
      },
      "source": [
        "And then treat them like whatever datatype they are:"
      ]
    },
    {
      "cell_type": "code",
      "metadata": {
        "colab_type": "code",
        "id": "wfEpdKeKOjNJ",
        "slideshow": {
          "slide_type": "fragment"
        },
        "colab": {}
      },
      "source": [
        "print(\n",
        "    '''\n",
        "    x = {}\n",
        "    y = {}\n",
        "    x + y = {}\n",
        "    x * y = {}\n",
        "    x / y = {}\n",
        "    x ** y = {}\n",
        "    '''.format(\n",
        "        x,\n",
        "        y,\n",
        "        x + y,\n",
        "        x * y,\n",
        "        x / y,\n",
        "        x ** y\n",
        "    )\n",
        ")\n",
        "\n",
        "print(\"this is a \\nnew line\")"
      ],
      "execution_count": 0,
      "outputs": []
    },
    {
      "cell_type": "markdown",
      "metadata": {
        "colab_type": "text",
        "id": "Z1l8EilwOjNP",
        "slideshow": {
          "slide_type": "slide"
        }
      },
      "source": [
        "# Data Structures"
      ]
    },
    {
      "cell_type": "markdown",
      "metadata": {
        "colab_type": "text",
        "id": "X7VZ5MHVOjNQ",
        "slideshow": {
          "slide_type": "subslide"
        }
      },
      "source": [
        "## Lists"
      ]
    },
    {
      "cell_type": "markdown",
      "metadata": {
        "colab_type": "text",
        "id": "DJ_oUpAPOjNS",
        "slideshow": {
          "slide_type": "fragment"
        }
      },
      "source": [
        "Lists are collections of 'things'. You can throw pretty much anything you want in a list."
      ]
    },
    {
      "cell_type": "code",
      "metadata": {
        "colab_type": "code",
        "id": "Gm-CMoa4OjNT",
        "slideshow": {
          "slide_type": "fragment"
        },
        "colab": {}
      },
      "source": [
        "three = 3\n",
        "mylist = [1, '2', three]\n",
        "mylist"
      ],
      "execution_count": 0,
      "outputs": []
    },
    {
      "cell_type": "markdown",
      "metadata": {
        "colab_type": "text",
        "id": "pIghedGEOjNW",
        "slideshow": {
          "slide_type": "subslide"
        }
      },
      "source": [
        "Even more lists!"
      ]
    },
    {
      "cell_type": "code",
      "metadata": {
        "colab_type": "code",
        "id": "N2pqWe42OjNX",
        "slideshow": {
          "slide_type": "fragment"
        },
        "colab": {}
      },
      "source": [
        "superlist = [1, '2', three, mylist]\n",
        "superlist"
      ],
      "execution_count": 0,
      "outputs": []
    },
    {
      "cell_type": "markdown",
      "metadata": {
        "colab_type": "text",
        "id": "gZfQBm-2OjNc",
        "slideshow": {
          "slide_type": "subslide"
        }
      },
      "source": [
        "You can get the value of an item in a list using indexing.\n",
        "\n",
        "*NOTE: Python starts indexing at* **0**,* not 1!*"
      ]
    },
    {
      "cell_type": "code",
      "metadata": {
        "colab_type": "code",
        "id": "LOzFQsS4OjNd",
        "slideshow": {
          "slide_type": "fragment"
        },
        "colab": {}
      },
      "source": [
        "superlist[0]"
      ],
      "execution_count": 0,
      "outputs": []
    },
    {
      "cell_type": "code",
      "metadata": {
        "colab_type": "code",
        "id": "6cL20J46OjNh",
        "slideshow": {
          "slide_type": "fragment"
        },
        "colab": {}
      },
      "source": [
        "superlist[3]\n",
        "# superlist.index([1, '2', 3])"
      ],
      "execution_count": 0,
      "outputs": []
    },
    {
      "cell_type": "markdown",
      "metadata": {
        "colab_type": "text",
        "id": "aiePK_d3OjNm",
        "slideshow": {
          "slide_type": "subslide"
        }
      },
      "source": [
        "And you can 'chain' the indexing:"
      ]
    },
    {
      "cell_type": "code",
      "metadata": {
        "colab_type": "code",
        "id": "FMY6AqwaOjNn",
        "slideshow": {
          "slide_type": "fragment"
        },
        "colab": {}
      },
      "source": [
        "print(superlist)\n",
        "print(superlist[-1])\n",
        "print(superlist[-1][0]) # get the 0th (first) item in the -1th (last) item in superlist"
      ],
      "execution_count": 0,
      "outputs": []
    },
    {
      "cell_type": "markdown",
      "metadata": {
        "colab_type": "text",
        "id": "tj081Wh3OjNr",
        "slideshow": {
          "slide_type": "subslide"
        }
      },
      "source": [
        "You can add things to lists:"
      ]
    },
    {
      "cell_type": "code",
      "metadata": {
        "colab_type": "code",
        "id": "51M2VZfLOjNs",
        "slideshow": {
          "slide_type": "fragment"
        },
        "colab": {}
      },
      "source": [
        "print(superlist)\n",
        "superlist.append('just added this')\n",
        "print(superlist)"
      ],
      "execution_count": 0,
      "outputs": []
    },
    {
      "cell_type": "markdown",
      "metadata": {
        "colab_type": "text",
        "id": "CZOqXljjOjNy",
        "slideshow": {
          "slide_type": "subslide"
        }
      },
      "source": [
        "And remove things from them:"
      ]
    },
    {
      "cell_type": "code",
      "metadata": {
        "colab_type": "code",
        "id": "9tjT3hyIOjNz",
        "scrolled": true,
        "slideshow": {
          "slide_type": "fragment"
        },
        "colab": {}
      },
      "source": [
        "print(superlist)\n",
        "popped_thing = superlist.pop()\n",
        "print(popped_thing)\n",
        "print(superlist)"
      ],
      "execution_count": 0,
      "outputs": []
    },
    {
      "cell_type": "code",
      "metadata": {
        "colab_type": "code",
        "id": "BOmRf84bOjN1",
        "slideshow": {
          "slide_type": "fragment"
        },
        "colab": {}
      },
      "source": [
        "popped_thing"
      ],
      "execution_count": 0,
      "outputs": []
    },
    {
      "cell_type": "markdown",
      "metadata": {
        "colab_type": "text",
        "id": "uv-GI7AYOjN6",
        "slideshow": {
          "slide_type": "subslide"
        }
      },
      "source": [
        "Lists can also be combined:"
      ]
    },
    {
      "cell_type": "code",
      "metadata": {
        "colab_type": "code",
        "id": "pw-NmwdBOjN7",
        "slideshow": {
          "slide_type": "fragment"
        },
        "colab": {}
      },
      "source": [
        "superlist + mylist"
      ],
      "execution_count": 0,
      "outputs": []
    },
    {
      "cell_type": "code",
      "metadata": {
        "colab_type": "code",
        "id": "oaAZb8feOjOE",
        "slideshow": {
          "slide_type": "fragment"
        },
        "colab": {}
      },
      "source": [
        "print(mylist)\n",
        "mylist.append([1, 2, 3])\n",
        "print(mylist)"
      ],
      "execution_count": 0,
      "outputs": []
    },
    {
      "cell_type": "code",
      "metadata": {
        "colab_type": "code",
        "id": "PNlfd1paOjOJ",
        "slideshow": {
          "slide_type": "fragment"
        },
        "colab": {}
      },
      "source": [
        "# THIS IS SUPER BAD! WHY?\n",
        "\n",
        "# mylist.append(superlist)"
      ],
      "execution_count": 0,
      "outputs": []
    },
    {
      "cell_type": "markdown",
      "metadata": {
        "colab_type": "text",
        "id": "EPkwUHx6OjOL",
        "slideshow": {
          "slide_type": "subslide"
        }
      },
      "source": [
        "And values in a list can be changed:"
      ]
    },
    {
      "cell_type": "code",
      "metadata": {
        "colab_type": "code",
        "id": "v5zoW6RZOjOM",
        "slideshow": {
          "slide_type": "fragment"
        },
        "colab": {}
      },
      "source": [
        "mylist"
      ],
      "execution_count": 0,
      "outputs": []
    },
    {
      "cell_type": "code",
      "metadata": {
        "colab_type": "code",
        "id": "GX50EDgmOjOP",
        "slideshow": {
          "slide_type": "fragment"
        },
        "colab": {}
      },
      "source": [
        "mylist[0] = 0\n",
        "mylist"
      ],
      "execution_count": 0,
      "outputs": []
    },
    {
      "cell_type": "markdown",
      "metadata": {
        "colab_type": "text",
        "id": "sJqZhChQOjOT",
        "slideshow": {
          "slide_type": "subslide"
        }
      },
      "source": [
        "## Dictionaries"
      ]
    },
    {
      "cell_type": "markdown",
      "metadata": {
        "colab_type": "text",
        "id": "8v6bn2a_OjOV",
        "slideshow": {
          "slide_type": "fragment"
        }
      },
      "source": [
        "Dictionaries are like lists, but instead of using numerical positions to get values out of them we use strings (called 'keys')\n",
        "\n",
        "We use '{' and '}' instead of '\\[' and '\\]' to define a dictionary."
      ]
    },
    {
      "cell_type": "code",
      "metadata": {
        "colab_type": "code",
        "id": "Zb-8UUNFOjOW",
        "slideshow": {
          "slide_type": "fragment"
        },
        "colab": {}
      },
      "source": [
        "mydictionary = {'item1': 1, 'item2': 'two', 'item3': [1, '2', three], 'item4': superlist}"
      ],
      "execution_count": 0,
      "outputs": []
    },
    {
      "cell_type": "code",
      "metadata": {
        "colab_type": "code",
        "id": "TvyEu3iQOjOe",
        "slideshow": {
          "slide_type": "fragment"
        },
        "colab": {}
      },
      "source": [
        "mydictionary['item4']"
      ],
      "execution_count": 0,
      "outputs": []
    },
    {
      "cell_type": "markdown",
      "metadata": {
        "colab_type": "text",
        "id": "EncnZM3bOjOh",
        "slideshow": {
          "slide_type": "subslide"
        }
      },
      "source": [
        "And again, you can put pretty much anything into a dictionary, even another dictionary."
      ]
    },
    {
      "cell_type": "code",
      "metadata": {
        "colab_type": "code",
        "id": "7-3BaEn1OjOi",
        "slideshow": {
          "slide_type": "fragment"
        },
        "colab": {}
      },
      "source": [
        "superdictionary = {'newitems': [1, 2, 3], 'olditems': mydictionary}\n",
        "superdictionary"
      ],
      "execution_count": 0,
      "outputs": []
    },
    {
      "cell_type": "markdown",
      "metadata": {
        "colab_type": "text",
        "id": "jzf2_HJGOjOl",
        "slideshow": {
          "slide_type": "subslide"
        }
      },
      "source": [
        "And you can chain keys here as well."
      ]
    },
    {
      "cell_type": "code",
      "metadata": {
        "colab_type": "code",
        "id": "DB-2hgvUOjOm",
        "slideshow": {
          "slide_type": "fragment"
        },
        "colab": {}
      },
      "source": [
        "print(superdictionary['olditems'])\n",
        "# print(superdictionary['olditems']['item4'])"
      ],
      "execution_count": 0,
      "outputs": []
    },
    {
      "cell_type": "markdown",
      "metadata": {
        "colab_type": "text",
        "id": "UJ_xIHS3OjOp",
        "slideshow": {
          "slide_type": "subslide"
        }
      },
      "source": [
        "You can add items to a dictionary..."
      ]
    },
    {
      "cell_type": "code",
      "metadata": {
        "colab_type": "code",
        "id": "NgDPYpbDOjOq",
        "slideshow": {
          "slide_type": "fragment"
        },
        "colab": {}
      },
      "source": [
        "superdictionary['just_added'] = 'added this!'\n",
        "superdictionary['just_added']"
      ],
      "execution_count": 0,
      "outputs": []
    },
    {
      "cell_type": "markdown",
      "metadata": {
        "colab_type": "text",
        "id": "o4qc9gxHOjOw",
        "slideshow": {
          "slide_type": "subslide"
        }
      },
      "source": [
        "...and overwrite the values associated with a key."
      ]
    },
    {
      "cell_type": "code",
      "metadata": {
        "colab_type": "code",
        "id": "aS5wEabmOjO2",
        "slideshow": {
          "slide_type": "fragment"
        },
        "colab": {}
      },
      "source": [
        "superdictionary['just_added'] = 'Just changed this value!'\n",
        "superdictionary['just_added']"
      ],
      "execution_count": 0,
      "outputs": []
    },
    {
      "cell_type": "markdown",
      "metadata": {
        "colab_type": "text",
        "id": "WuEqcDBhOjO5",
        "slideshow": {
          "slide_type": "subslide"
        }
      },
      "source": [
        "## Tuples"
      ]
    },
    {
      "cell_type": "markdown",
      "metadata": {
        "colab_type": "text",
        "id": "LOCRbVwhOjO7",
        "slideshow": {
          "slide_type": "subslide"
        }
      },
      "source": [
        "Tuples are similar to lists, except they use '(' and ')' instead of '\\[' and '\\]' and are **fixed**. So no adding / removing / changing things in tuples!"
      ]
    },
    {
      "cell_type": "code",
      "metadata": {
        "colab_type": "code",
        "id": "OXwRMc-POjO8",
        "slideshow": {
          "slide_type": "fragment"
        },
        "colab": {}
      },
      "source": [
        "three = 3\n",
        "mytuple = (1, '2', three)\n",
        "mytuple"
      ],
      "execution_count": 0,
      "outputs": []
    },
    {
      "cell_type": "code",
      "metadata": {
        "colab_type": "code",
        "id": "jV5aCLlKOjPA",
        "slideshow": {
          "slide_type": "fragment"
        },
        "colab": {}
      },
      "source": [
        "supertuple = (1, '2', three, mytuple)\n",
        "supertuple\n",
        "supertuple[0]"
      ],
      "execution_count": 0,
      "outputs": []
    },
    {
      "cell_type": "markdown",
      "metadata": {
        "colab_type": "text",
        "id": "k59diTqhOjPC",
        "slideshow": {
          "slide_type": "subslide"
        }
      },
      "source": [
        "## Sets"
      ]
    },
    {
      "cell_type": "markdown",
      "metadata": {
        "colab_type": "text",
        "id": "JdFs5ZYpOjPD",
        "slideshow": {
          "slide_type": "subslide"
        }
      },
      "source": [
        "Sets are unordered collections of unique elements:"
      ]
    },
    {
      "cell_type": "code",
      "metadata": {
        "colab_type": "code",
        "id": "dUlg0RIYOjPG",
        "slideshow": {
          "slide_type": "fragment"
        },
        "colab": {}
      },
      "source": [
        "bag = ['apple', 'apple', 'apple', 'orange', 'orange', 'banana', 'milk', 1, 1, 1]\n",
        "\n",
        "myset = set(bag)\n",
        "list(myset)[0]"
      ],
      "execution_count": 0,
      "outputs": []
    },
    {
      "cell_type": "markdown",
      "metadata": {
        "colab_type": "text",
        "id": "gY3HVHPNOjPI",
        "slideshow": {
          "slide_type": "subslide"
        }
      },
      "source": [
        "You can use sets to find the union, intersection and difference between things:"
      ]
    },
    {
      "cell_type": "code",
      "metadata": {
        "colab_type": "code",
        "id": "GPxpM5HROjPJ",
        "slideshow": {
          "slide_type": "fragment"
        },
        "colab": {}
      },
      "source": [
        "# difference (in one not the other)\n",
        "fridge = ['apple', 'milk', 'orange juice', 'eggs', 'cheese']\n",
        "\n",
        "difference = set(fridge) - set(bag) # what is in the fridge that is not in your bag\n",
        "# intersection (in both)\n",
        "intersection = set(fridge) & set(bag) # what is in both fridge and bag\n",
        "# union (in either)\n",
        "union = set(fridge) | set(bag) # items that are in fridge and/or bag\n",
        "# Symetric difference (in only 1)\n",
        "symmetric = set(fridge) ^ set(bag) # items in either fridge or bag, but not both\n",
        "print(\n",
        "    '''\n",
        "    difference = {}\n",
        "    intersection = {}\n",
        "    union = {}\n",
        "    symmetric = {}\n",
        "    '''.format(\n",
        "        difference,\n",
        "        intersection,\n",
        "        union,\n",
        "        symmetric\n",
        "    )\n",
        ")"
      ],
      "execution_count": 0,
      "outputs": []
    },
    {
      "cell_type": "markdown",
      "metadata": {
        "colab_type": "text",
        "id": "mJThf8sEOjPM",
        "slideshow": {
          "slide_type": "slide"
        }
      },
      "source": [
        "# Logic"
      ]
    },
    {
      "cell_type": "markdown",
      "metadata": {
        "colab_type": "text",
        "id": "0QL5-VCaOjPN",
        "slideshow": {
          "slide_type": "subslide"
        }
      },
      "source": [
        "## Operators:\n",
        "\n",
        "    - >\n",
        "    - <\n",
        "    - ==\n",
        "    - !=\n",
        "    - (combos)"
      ]
    },
    {
      "cell_type": "markdown",
      "metadata": {
        "colab_type": "text",
        "id": "oKACvThTOjPO",
        "slideshow": {
          "slide_type": "subslide"
        }
      },
      "source": [
        "Test some conditions:"
      ]
    },
    {
      "cell_type": "code",
      "metadata": {
        "colab_type": "code",
        "id": "z8cmTyOYOjPP",
        "scrolled": true,
        "slideshow": {
          "slide_type": "fragment"
        },
        "colab": {}
      },
      "source": [
        "1 > 2"
      ],
      "execution_count": 0,
      "outputs": []
    },
    {
      "cell_type": "code",
      "metadata": {
        "colab_type": "code",
        "id": "3Iz3VuvrOjPR",
        "scrolled": true,
        "slideshow": {
          "slide_type": "fragment"
        },
        "colab": {}
      },
      "source": [
        "1 < 2"
      ],
      "execution_count": 0,
      "outputs": []
    },
    {
      "cell_type": "code",
      "metadata": {
        "colab_type": "code",
        "id": "8I8UD8s7OjPS",
        "slideshow": {
          "slide_type": "fragment"
        },
        "colab": {}
      },
      "source": [
        "1 == 2"
      ],
      "execution_count": 0,
      "outputs": []
    },
    {
      "cell_type": "code",
      "metadata": {
        "colab_type": "code",
        "id": "ACGFpR9gOjPU",
        "slideshow": {
          "slide_type": "fragment"
        },
        "colab": {}
      },
      "source": [
        "1 != 2"
      ],
      "execution_count": 0,
      "outputs": []
    },
    {
      "cell_type": "markdown",
      "metadata": {
        "colab_type": "text",
        "id": "fOp9M4QwOjPW",
        "slideshow": {
          "slide_type": "subslide"
        }
      },
      "source": [
        "Test some conditions (continued):"
      ]
    },
    {
      "cell_type": "code",
      "metadata": {
        "colab_type": "code",
        "id": "66cyOSXROjPW",
        "slideshow": {
          "slide_type": "fragment"
        },
        "colab": {}
      },
      "source": [
        "2 > 2"
      ],
      "execution_count": 0,
      "outputs": []
    },
    {
      "cell_type": "code",
      "metadata": {
        "colab_type": "code",
        "id": "X2sAxY_qOjPc",
        "slideshow": {
          "slide_type": "fragment"
        },
        "colab": {}
      },
      "source": [
        "2 >= 2"
      ],
      "execution_count": 0,
      "outputs": []
    },
    {
      "cell_type": "code",
      "metadata": {
        "colab_type": "code",
        "id": "zmtEaWUKOjPf",
        "slideshow": {
          "slide_type": "fragment"
        },
        "colab": {}
      },
      "source": [
        "2 < 2"
      ],
      "execution_count": 0,
      "outputs": []
    },
    {
      "cell_type": "code",
      "metadata": {
        "colab_type": "code",
        "id": "xc9MDMRpOjPl",
        "scrolled": true,
        "slideshow": {
          "slide_type": "fragment"
        },
        "colab": {}
      },
      "source": [
        "2 <= 2"
      ],
      "execution_count": 0,
      "outputs": []
    },
    {
      "cell_type": "markdown",
      "metadata": {
        "colab_type": "text",
        "id": "ADaSFEjjOjPo",
        "slideshow": {
          "slide_type": "subslide"
        }
      },
      "source": [
        "## if statements"
      ]
    },
    {
      "cell_type": "markdown",
      "metadata": {
        "colab_type": "text",
        "id": "6J_OrN5MOjPo",
        "slideshow": {
          "slide_type": "subslide"
        }
      },
      "source": [
        "If statements in python look like:\n",
        "\n",
        "`\n",
        "if < logical condition >:\n",
        "    < do something >\n",
        "elif < another logical condition >:\n",
        "    < do something else >\n",
        "else:\n",
        "    < do another thing >\n",
        "`\n",
        "\n",
        "NOTE the indentation after the ':' - this is **VERY IMPORTANT**!"
      ]
    },
    {
      "cell_type": "code",
      "metadata": {
        "colab_type": "code",
        "id": "pYdk7n0HOjPo",
        "slideshow": {
          "slide_type": "subslide"
        },
        "colab": {}
      },
      "source": [
        "if 2 < 1:\n",
        "    print(\"Woah, this isn't right!\")\n",
        "elif 2 == 1:\n",
        "    print(\"Hmmm, no this isn't right either...\")\n",
        "elif 2 > 1:\n",
        "    print(\"AHA! Yep, this is right.\")\n",
        "else:\n",
        "    print(\"We should never get here because the condition above us is true!\")"
      ],
      "execution_count": 0,
      "outputs": []
    },
    {
      "cell_type": "markdown",
      "metadata": {
        "colab_type": "text",
        "id": "MWPFnWhAOjPr",
        "slideshow": {
          "slide_type": "slide"
        }
      },
      "source": [
        "# Loops"
      ]
    },
    {
      "cell_type": "markdown",
      "metadata": {
        "colab_type": "text",
        "id": "q5twaxKqOjPr",
        "slideshow": {
          "slide_type": "subslide"
        }
      },
      "source": [
        "## For Loops"
      ]
    },
    {
      "cell_type": "markdown",
      "metadata": {
        "colab_type": "text",
        "id": "i4WBAXuBOjPs",
        "slideshow": {
          "slide_type": "subslide"
        }
      },
      "source": [
        "For loops in python look like:\n",
        "\n",
        "`\n",
        "for < thing > in < iterable >:\n",
        "    < do something >\n",
        "`\n",
        "\n",
        "Again, NOTE THE INDENTATION!"
      ]
    },
    {
      "cell_type": "code",
      "metadata": {
        "colab_type": "code",
        "id": "oaahgAfxOjPs",
        "slideshow": {
          "slide_type": "fragment"
        },
        "colab": {}
      },
      "source": [
        "# Here we use the range function, which returns an iterable of numbers.\n",
        "# By default it starts at 0, and increments by 1 until it gets to the number you pass it minus 1\n",
        "x = 0\n",
        "\n",
        "for i in range(0, 100, 20):\n",
        "#     x = x + 4\n",
        "#     print(x**2)\n",
        "    print(i**2)"
      ],
      "execution_count": 0,
      "outputs": []
    },
    {
      "cell_type": "markdown",
      "metadata": {
        "colab_type": "text",
        "id": "IvMk7mBlOjPu",
        "slideshow": {
          "slide_type": "subslide"
        }
      },
      "source": [
        "You can pass any *iterable* to a for loop. This includes lists, dictionaries, tupels and sets:"
      ]
    },
    {
      "cell_type": "code",
      "metadata": {
        "colab_type": "code",
        "id": "D78wEUoBOjPv",
        "slideshow": {
          "slide_type": "fragment"
        },
        "colab": {}
      },
      "source": [
        "for i in mylist:\n",
        "    print(i)"
      ],
      "execution_count": 0,
      "outputs": []
    },
    {
      "cell_type": "code",
      "metadata": {
        "colab_type": "code",
        "id": "UlikjDN3OjPw",
        "slideshow": {
          "slide_type": "subslide"
        },
        "colab": {}
      },
      "source": [
        "for i in mytuple:\n",
        "    print(i)"
      ],
      "execution_count": 0,
      "outputs": []
    },
    {
      "cell_type": "code",
      "metadata": {
        "colab_type": "code",
        "id": "f0hRc0c9OjPx",
        "scrolled": false,
        "slideshow": {
          "slide_type": "subslide"
        },
        "colab": {}
      },
      "source": [
        "for i in mydictionary:\n",
        "    print(i)"
      ],
      "execution_count": 0,
      "outputs": []
    },
    {
      "cell_type": "code",
      "metadata": {
        "colab_type": "code",
        "id": "PeHEi8GZOjP0",
        "scrolled": true,
        "slideshow": {
          "slide_type": "subslide"
        },
        "colab": {}
      },
      "source": [
        "for i in mydictionary:\n",
        "    print('''mydictionary {} = {}'''.format(i, mydictionary[i]))"
      ],
      "execution_count": 0,
      "outputs": []
    },
    {
      "cell_type": "markdown",
      "metadata": {
        "colab_type": "text",
        "id": "yRFbmFg_OjP1",
        "slideshow": {
          "slide_type": "subslide"
        }
      },
      "source": [
        "## While Loops"
      ]
    },
    {
      "cell_type": "markdown",
      "metadata": {
        "colab_type": "text",
        "id": "kQR3UDs7OjP2",
        "slideshow": {
          "slide_type": "subslide"
        }
      },
      "source": [
        "For loops in python look like:\n",
        "\n",
        "`\n",
        "while < logical condition >:\n",
        "    < do something >\n",
        "`"
      ]
    },
    {
      "cell_type": "code",
      "metadata": {
        "colab_type": "code",
        "id": "ERjnWfXpOjP2",
        "slideshow": {
          "slide_type": "fragment"
        },
        "colab": {}
      },
      "source": [
        "x = 0\n",
        "while x < 10:\n",
        "    print(x)\n",
        "    x = x + 1"
      ],
      "execution_count": 0,
      "outputs": []
    },
    {
      "cell_type": "markdown",
      "metadata": {
        "colab_type": "text",
        "id": "EWiqGmfuOjP4",
        "slideshow": {
          "slide_type": "subslide"
        }
      },
      "source": [
        "Breaking out of loops:"
      ]
    },
    {
      "cell_type": "code",
      "metadata": {
        "colab_type": "code",
        "id": "qcG62lCeOjP4",
        "slideshow": {
          "slide_type": "fragment"
        },
        "colab": {}
      },
      "source": [
        "x = 0\n",
        "while x < 100:\n",
        "    print(x)\n",
        "    if x >= 5:\n",
        "        break\n",
        "    x = x + 1\n"
      ],
      "execution_count": 0,
      "outputs": []
    },
    {
      "cell_type": "markdown",
      "metadata": {
        "colab_type": "text",
        "id": "XVlpk8LSOjP7",
        "slideshow": {
          "slide_type": "skip"
        }
      },
      "source": [
        "# Comprehension"
      ]
    },
    {
      "cell_type": "markdown",
      "metadata": {
        "colab_type": "text",
        "id": "FvQlqEvhOjP8",
        "slideshow": {
          "slide_type": "skip"
        }
      },
      "source": [
        "## List Comprehension"
      ]
    },
    {
      "cell_type": "code",
      "metadata": {
        "colab_type": "code",
        "id": "ie7Zy4HxOjP9",
        "scrolled": false,
        "slideshow": {
          "slide_type": "skip"
        },
        "colab": {}
      },
      "source": [
        "['number {}'.format(x) for x in range(19)]"
      ],
      "execution_count": 0,
      "outputs": []
    },
    {
      "cell_type": "markdown",
      "metadata": {
        "colab_type": "text",
        "id": "8ukYC4CEOjP-",
        "slideshow": {
          "slide_type": "skip"
        }
      },
      "source": [
        "## Dictionary Comprehension"
      ]
    },
    {
      "cell_type": "code",
      "metadata": {
        "colab_type": "code",
        "id": "X3oYEKupOjP-",
        "slideshow": {
          "slide_type": "skip"
        },
        "colab": {}
      },
      "source": [
        "{'thing_{}'.format(i): i for i in range(10)}"
      ],
      "execution_count": 0,
      "outputs": []
    },
    {
      "cell_type": "code",
      "metadata": {
        "colab_type": "code",
        "id": "R-QXepEnOjQC",
        "colab": {}
      },
      "source": [
        ""
      ],
      "execution_count": 0,
      "outputs": []
    }
  ]
}